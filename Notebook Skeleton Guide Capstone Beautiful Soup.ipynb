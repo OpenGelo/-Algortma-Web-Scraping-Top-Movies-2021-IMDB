{
 "cells": [
  {
   "cell_type": "markdown",
   "metadata": {},
   "source": [
    "# Capstone Webscrapping using BeautifulSoup\n",
    "\n",
    "This notebook contains guidances & tasks on the data processing for the application\n",
    "\n",
    "## background\n",
    "\n",
    "(Please insert the background here )\n",
    "\n",
    "## Requesting the Data and Creating a BeautifulSoup\n",
    "\n",
    "Let's begin with requesting the web from the site with `get` method."
   ]
  },
  {
   "cell_type": "code",
   "execution_count": 6,
   "metadata": {
    "ExecuteTime": {
     "end_time": "2020-01-13T05:12:23.275508Z",
     "start_time": "2020-01-13T05:12:20.009898Z"
    }
   },
   "outputs": [],
   "source": [
    "import requests\n",
    "\n",
    "#url_get = requests.get('https://www.coingecko.com/en/coins/ethereum/historical_data/usd?start_date=2020-01-01&end_date=2021-06-30#panel')\n",
    "url_get = requests.get('https://www.imdb.com/search/title/?release_date=2021-01-01,2021-12-31')"
   ]
  },
  {
   "cell_type": "markdown",
   "metadata": {},
   "source": [
    "To visualize what exactly you get from the `request.get`, we can use .content so ee what we exactly get, in here i slice it so it won't make our screen full of the html we get from the page. You can delete the slicing if you want to see what we fully get."
   ]
  },
  {
   "cell_type": "code",
   "execution_count": 7,
   "metadata": {
    "ExecuteTime": {
     "end_time": "2020-01-13T05:12:23.290648Z",
     "start_time": "2020-01-13T05:12:23.277650Z"
    }
   },
   "outputs": [
    {
     "data": {
      "text/plain": [
       "b'\\n<!DOCTYPE html>\\n<html\\n    xmlns:og=\"http://ogp.me/ns#\"\\n    xmlns:fb=\"http://www.facebook.com/2008/fbml\">\\n    <head>\\n         \\n\\n        <meta charset=\"utf-8\">\\n\\n\\n\\n\\n        <script type=\"text/javascript\">var IMDbTimer={starttime: new Date().getTime(),pt:\\'java\\'};</script>\\n\\n<script>\\n    if (typeof uet == \\'function\\') {\\n      uet(\"bb\", \"LoadTitle\", {wb: 1});\\n    }\\n</script>\\n  <script>(function(t){ (t.events = t.events || {})[\"csm_head_pre_title\"] = new Date().getTime(); })(IMDbTimer);</script>\\n      '"
      ]
     },
     "execution_count": 7,
     "metadata": {},
     "output_type": "execute_result"
    }
   ],
   "source": [
    "url_get.content[1:500]"
   ]
  },
  {
   "cell_type": "markdown",
   "metadata": {},
   "source": [
    "As we can see we get a very unstructured and complex html, which actually contains the codes needed to show the webpages on your web browser. But we as human still confused what and where we can use that piece of code, so here where we use the beautifulsoup. Beautiful soup class will result a beautifulsoup object. Beautiful Soup transforms a complex HTML document into a complex tree of Python objects. \n",
    "\n",
    "Let's make Beautiful soup object and feel free to explore the object here."
   ]
  },
  {
   "cell_type": "code",
   "execution_count": 8,
   "metadata": {
    "ExecuteTime": {
     "end_time": "2020-01-13T05:12:23.808122Z",
     "start_time": "2020-01-13T05:12:23.292610Z"
    }
   },
   "outputs": [],
   "source": [
    "from bs4 import BeautifulSoup \n",
    "\n",
    "soup = BeautifulSoup(url_get.content,\"html.parser\")"
   ]
  },
  {
   "cell_type": "markdown",
   "metadata": {},
   "source": [
    "## Finding the right key to scrap the data & Extracting the right information"
   ]
  },
  {
   "cell_type": "markdown",
   "metadata": {},
   "source": [
    "Find the key and put the key into the `.find()` Put all the exploring the right key at this cell. (please change this markdown with your explanation)"
   ]
  },
  {
   "cell_type": "code",
   "execution_count": 136,
   "metadata": {
    "ExecuteTime": {
     "end_time": "2020-01-13T05:12:23.878904Z",
     "start_time": "2020-01-13T05:12:23.854974Z"
    }
   },
   "outputs": [
    {
     "name": "stdout",
     "output_type": "stream",
     "text": [
      "div class=\"lister-list\">\n",
      " <div class=\"lister-item mode-advanced\">\n",
      "  <div class=\"lister-top-right\">\n",
      "   <div class=\"ribbonize\" data-caller=\"filmosearch\" data-tconst=\"tt8179402\">\n",
      "   </div>\n",
      "  </div>\n",
      "  <div class=\"lister-item-image float-left\">\n",
      "   <a href=\"/title/tt8179402/\">\n",
      "    <img alt=\"Fate: The Winx Saga\" class=\"loadlate\" data-tconst=\"tt8179402\" height=\"98\" loadlate=\"https://m.media-amazon.com/images/M/MV5BMzEyYzBhODYtZjZlOC00MTM4LWIxMjQtMTRhZjA5ODM4ZWI2XkEyXkFqcGdeQXVyODQwODA1MjY@._V1_UY98_CR5\n"
     ]
    }
   ],
   "source": [
    "results = soup.find('div', attrs={'class':'lister-list'})\n",
    "print(results.prettify()[1:500])"
   ]
  },
  {
   "cell_type": "markdown",
   "metadata": {},
   "source": [
    "Finding row length."
   ]
  },
  {
   "cell_type": "code",
   "execution_count": 137,
   "metadata": {},
   "outputs": [
    {
     "data": {
      "text/plain": [
       "101"
      ]
     },
     "execution_count": 137,
     "metadata": {},
     "output_type": "execute_result"
    }
   ],
   "source": [
    "#scraped_movies = results.find_all('h3', class_='lister-item-header')\n",
    "#scraped_ratings = results.find_all('div', class_='inline-block ratings-imdb-rating')\n",
    "#scraped_metadata = results.find_all('div', class_='inline-block ratings-metascore')\n",
    "\n",
    "results_length = len(results)\n",
    "results_length"
   ]
  },
  {
   "cell_type": "code",
   "execution_count": 112,
   "metadata": {},
   "outputs": [
    {
     "data": {
      "text/plain": [
       "'1.Fate: The Winx Saga(2021– )'"
      ]
     },
     "execution_count": 112,
     "metadata": {},
     "output_type": "execute_result"
    }
   ],
   "source": [
    "#results.find_all('h3', class_='lister-item-header').get_text().replace('\\n', \"\").strip(\" \")\n",
    "results.find_all('h3', class_='lister-item-header')[0].get_text().replace('\\n', \"\").strip(\" \")"
   ]
  },
  {
   "cell_type": "code",
   "execution_count": 80,
   "metadata": {},
   "outputs": [
    {
     "data": {
      "text/plain": [
       "'71'"
      ]
     },
     "execution_count": 80,
     "metadata": {},
     "output_type": "execute_result"
    }
   ],
   "source": [
    "results.find_all('span', class_='metascore favorable')[1].get_text().replace('\\n', \"\").strip(\" \")"
   ]
  },
  {
   "cell_type": "markdown",
   "metadata": {},
   "source": [
    "Do the scrapping process here (please change this markdown with your explanation)"
   ]
  },
  {
   "cell_type": "code",
   "execution_count": 186,
   "metadata": {
    "ExecuteTime": {
     "end_time": "2020-01-13T05:12:24.008256Z",
     "start_time": "2020-01-13T05:12:23.980358Z"
    }
   },
   "outputs": [
    {
     "data": {
      "text/plain": [
       "[('1.Fate: The Winx Saga(2021– )', '6.9', '65', '44,511'),\n",
       " ('2.The White Lotus(2021–2022)', '7.6', '71', '67,711'),\n",
       " ('3.Only Murders in the Building(2021– )', '8.1', '74', '96,354'),\n",
       " ('4.Abbott Elementary(2021– )', '8.2', '90', '13,724'),\n",
       " ('5.The Black Phone(2021)', '7.0', '69', '113,049'),\n",
       " ('6.Resident Alien(2021– )', '8.1', '68', '39,224'),\n",
       " ('7.American Horror Stories(2021– )', '6.2', '63', '20,777'),\n",
       " ('8.1883(2021–2022)', '8.8', '65', '63,196'),\n",
       " ('9.Reservation Dogs(2021– )', '8.1', '75', '14,619'),\n",
       " ('10.Spider-Man: No Way Home(2021)', '8.3', '71', '730,413'),\n",
       " ('11.La scuola cattolica(2021)', '5.7', '76', '730,413'),\n",
       " ('12.Dune: Part One(2021)', '8.0', '67', '1,798'),\n",
       " ('13.Licorice Pizza(2021)', '7.2', '62', '614,413'),\n",
       " ('14.Forsvinningen på Lørenskog(2021)', '6.1', 'n/a', '614,413'),\n",
       " ('15.Dopesick(2021)', '8.6', 'n/a', '105,554'),\n",
       " (\"16.NCIS: Hawai'i(2021– )\", '6.3', 'n/a', '1,065'),\n",
       " ('17.Mona Lisa and the Blood Moon(2021)', '6.2', 'n/a', '54,544'),\n",
       " ('18.The Little Things(2021)', '6.3', 'n/a', '5,532'),\n",
       " ('19.Bloodlands(2021– )', '6.6', 'n/a', '1,011'),\n",
       " ('20.Arcane: League of Legends(2021– )', '9.0', 'n/a', '99,621'),\n",
       " ('21.Yellowjackets(2021– )', '7.9', 'n/a', '5,078'),\n",
       " ('22.The Wheel of Time(2021– )', '7.1', 'n/a', '197,841'),\n",
       " ('23.Sing 2(2021)', '7.4', 'n/a', '44,875'),\n",
       " ('24.No Time to Die(2021)', '7.3', 'n/a', '102,414'),\n",
       " ('25.The Matrix Resurrections(2021)', '5.7', 'n/a', '65,797'),\n",
       " ('26.Ojing-eo geim(2021– )', '8.0', 'n/a', '65,797'),\n",
       " ('27.Snabba cash(2021– )', '7.6', 'n/a', '390,273'),\n",
       " ('28.House of Gucci(2021)', '6.6', 'n/a', '390,273'),\n",
       " ('29.Last Night in Soho(2021)', '7.1', 'n/a', '243,239'),\n",
       " ('30.Hacks(2021– )', '8.2', 'n/a', '436,151'),\n",
       " ('31.Ghosts(2021– )', '7.8', 'n/a', '9,297'),\n",
       " ('32.Law & Order: Organized Crime(2021– )', '7.7', 'n/a', '129,937'),\n",
       " ('33.Ghostbusters: Afterlife(2021)', '7.1', 'n/a', '130,367'),\n",
       " ('34.La Brea(2021– )', '5.7', 'n/a', '28,730'),\n",
       " ('35.Pleasure(2021)', '6.3', 'n/a', '14,785'),\n",
       " ('36.Gekijouban Jujutsu Kaisen 0(2021)', '7.9', 'n/a', '7,081'),\n",
       " ('37.Eternals(2021)', '6.3', 'n/a', '176,308'),\n",
       " ('38.Mare of Easttown(2021)', '8.4', 'n/a', '176,308'),\n",
       " ('39.Midnight Mass(2021)', '7.7', 'n/a', '10,249'),\n",
       " ('40.The Book of Boba Fett(2021– )', '7.3', 'n/a', '15,053'),\n",
       " ('41.Home Economics(2021– )', '6.7', 'n/a', '14,805'),\n",
       " ('42.Shadow and Bone(2021– )', '7.6', 'n/a', '333,479'),\n",
       " (\"43.Don't Look Up(2021)\", '7.2', 'n/a', '333,479'),\n",
       " ('44.Loki(2021– )', '8.2', 'n/a', '152,118'),\n",
       " ('45.FBI: International(2021– )', '6.3', 'n/a', '111,435'),\n",
       " ('46.Spencer(2021)', '6.6', 'n/a', '144,401'),\n",
       " ('47.Sex/Life(2021– )', '5.4', 'n/a', '3,999'),\n",
       " ('48.The Last Duel(2021)', '7.4', 'n/a', '82,984'),\n",
       " ('49.Free Guy(2021)', '7.1', 'n/a', '526,520'),\n",
       " ('50.Old(2021)', '5.8', 'n/a', '306,442')]"
      ]
     },
     "execution_count": 186,
     "metadata": {},
     "output_type": "execute_result"
    }
   ],
   "source": [
    "#initiating a tuple\n",
    "temp = []\n",
    "\n",
    "for i in range(50):\n",
    "\n",
    "    #scrapping process\n",
    "    title = results.find_all('h3', class_='lister-item-header')[i].get_text().replace('\\n', \"\").strip(\" \")\n",
    "    ratings = results.find_all('div', class_='inline-block ratings-imdb-rating')[i].get_text().replace('\\n', \"\").strip(\" \")\n",
    "    try :\n",
    "        metascore = results.find_all('span', class_='metascore favorable')[i].get_text().replace('\\n', \"\").strip(\" \")\n",
    "    except :\n",
    "        metascore = 'n/a'\n",
    "    cond = results.find_all('span', attrs={'name':'nv'})[i].get_text().replace('\\n', \"\").strip(\" \")\n",
    "    if(cond.startswith('$') == False):\n",
    "        votes = cond\n",
    "    temp.append((title,ratings,metascore,votes))\n",
    "    \n",
    "temp"
   ]
  },
  {
   "cell_type": "markdown",
   "metadata": {},
   "source": [
    "## Creating data frame & Data wrangling"
   ]
  },
  {
   "cell_type": "markdown",
   "metadata": {},
   "source": [
    "Put the array into dataframe"
   ]
  },
  {
   "cell_type": "code",
   "execution_count": 187,
   "metadata": {
    "ExecuteTime": {
     "end_time": "2020-01-13T05:12:41.517372Z",
     "start_time": "2020-01-13T05:12:29.130015Z"
    }
   },
   "outputs": [
    {
     "data": {
      "text/html": [
       "<div>\n",
       "<style scoped>\n",
       "    .dataframe tbody tr th:only-of-type {\n",
       "        vertical-align: middle;\n",
       "    }\n",
       "\n",
       "    .dataframe tbody tr th {\n",
       "        vertical-align: top;\n",
       "    }\n",
       "\n",
       "    .dataframe thead th {\n",
       "        text-align: right;\n",
       "    }\n",
       "</style>\n",
       "<table border=\"1\" class=\"dataframe\">\n",
       "  <thead>\n",
       "    <tr style=\"text-align: right;\">\n",
       "      <th></th>\n",
       "      <th>title</th>\n",
       "      <th>ratings</th>\n",
       "      <th>metascore</th>\n",
       "      <th>votes</th>\n",
       "    </tr>\n",
       "  </thead>\n",
       "  <tbody>\n",
       "    <tr>\n",
       "      <th>0</th>\n",
       "      <td>1.Fate: The Winx Saga(2021– )</td>\n",
       "      <td>6.9</td>\n",
       "      <td>65</td>\n",
       "      <td>44,511</td>\n",
       "    </tr>\n",
       "    <tr>\n",
       "      <th>1</th>\n",
       "      <td>2.The White Lotus(2021–2022)</td>\n",
       "      <td>7.6</td>\n",
       "      <td>71</td>\n",
       "      <td>67,711</td>\n",
       "    </tr>\n",
       "    <tr>\n",
       "      <th>2</th>\n",
       "      <td>3.Only Murders in the Building(2021– )</td>\n",
       "      <td>8.1</td>\n",
       "      <td>74</td>\n",
       "      <td>96,354</td>\n",
       "    </tr>\n",
       "    <tr>\n",
       "      <th>3</th>\n",
       "      <td>4.Abbott Elementary(2021– )</td>\n",
       "      <td>8.2</td>\n",
       "      <td>90</td>\n",
       "      <td>13,724</td>\n",
       "    </tr>\n",
       "    <tr>\n",
       "      <th>4</th>\n",
       "      <td>5.The Black Phone(2021)</td>\n",
       "      <td>7.0</td>\n",
       "      <td>69</td>\n",
       "      <td>113,049</td>\n",
       "    </tr>\n",
       "    <tr>\n",
       "      <th>5</th>\n",
       "      <td>6.Resident Alien(2021– )</td>\n",
       "      <td>8.1</td>\n",
       "      <td>68</td>\n",
       "      <td>39,224</td>\n",
       "    </tr>\n",
       "    <tr>\n",
       "      <th>6</th>\n",
       "      <td>7.American Horror Stories(2021– )</td>\n",
       "      <td>6.2</td>\n",
       "      <td>63</td>\n",
       "      <td>20,777</td>\n",
       "    </tr>\n",
       "    <tr>\n",
       "      <th>7</th>\n",
       "      <td>8.1883(2021–2022)</td>\n",
       "      <td>8.8</td>\n",
       "      <td>65</td>\n",
       "      <td>63,196</td>\n",
       "    </tr>\n",
       "    <tr>\n",
       "      <th>8</th>\n",
       "      <td>9.Reservation Dogs(2021– )</td>\n",
       "      <td>8.1</td>\n",
       "      <td>75</td>\n",
       "      <td>14,619</td>\n",
       "    </tr>\n",
       "    <tr>\n",
       "      <th>9</th>\n",
       "      <td>10.Spider-Man: No Way Home(2021)</td>\n",
       "      <td>8.3</td>\n",
       "      <td>71</td>\n",
       "      <td>730,413</td>\n",
       "    </tr>\n",
       "    <tr>\n",
       "      <th>10</th>\n",
       "      <td>11.La scuola cattolica(2021)</td>\n",
       "      <td>5.7</td>\n",
       "      <td>76</td>\n",
       "      <td>730,413</td>\n",
       "    </tr>\n",
       "    <tr>\n",
       "      <th>11</th>\n",
       "      <td>12.Dune: Part One(2021)</td>\n",
       "      <td>8.0</td>\n",
       "      <td>67</td>\n",
       "      <td>1,798</td>\n",
       "    </tr>\n",
       "    <tr>\n",
       "      <th>12</th>\n",
       "      <td>13.Licorice Pizza(2021)</td>\n",
       "      <td>7.2</td>\n",
       "      <td>62</td>\n",
       "      <td>614,413</td>\n",
       "    </tr>\n",
       "    <tr>\n",
       "      <th>13</th>\n",
       "      <td>14.Forsvinningen på Lørenskog(2021)</td>\n",
       "      <td>6.1</td>\n",
       "      <td>n/a</td>\n",
       "      <td>614,413</td>\n",
       "    </tr>\n",
       "    <tr>\n",
       "      <th>14</th>\n",
       "      <td>15.Dopesick(2021)</td>\n",
       "      <td>8.6</td>\n",
       "      <td>n/a</td>\n",
       "      <td>105,554</td>\n",
       "    </tr>\n",
       "    <tr>\n",
       "      <th>15</th>\n",
       "      <td>16.NCIS: Hawai'i(2021– )</td>\n",
       "      <td>6.3</td>\n",
       "      <td>n/a</td>\n",
       "      <td>1,065</td>\n",
       "    </tr>\n",
       "    <tr>\n",
       "      <th>16</th>\n",
       "      <td>17.Mona Lisa and the Blood Moon(2021)</td>\n",
       "      <td>6.2</td>\n",
       "      <td>n/a</td>\n",
       "      <td>54,544</td>\n",
       "    </tr>\n",
       "    <tr>\n",
       "      <th>17</th>\n",
       "      <td>18.The Little Things(2021)</td>\n",
       "      <td>6.3</td>\n",
       "      <td>n/a</td>\n",
       "      <td>5,532</td>\n",
       "    </tr>\n",
       "    <tr>\n",
       "      <th>18</th>\n",
       "      <td>19.Bloodlands(2021– )</td>\n",
       "      <td>6.6</td>\n",
       "      <td>n/a</td>\n",
       "      <td>1,011</td>\n",
       "    </tr>\n",
       "    <tr>\n",
       "      <th>19</th>\n",
       "      <td>20.Arcane: League of Legends(2021– )</td>\n",
       "      <td>9.0</td>\n",
       "      <td>n/a</td>\n",
       "      <td>99,621</td>\n",
       "    </tr>\n",
       "    <tr>\n",
       "      <th>20</th>\n",
       "      <td>21.Yellowjackets(2021– )</td>\n",
       "      <td>7.9</td>\n",
       "      <td>n/a</td>\n",
       "      <td>5,078</td>\n",
       "    </tr>\n",
       "    <tr>\n",
       "      <th>21</th>\n",
       "      <td>22.The Wheel of Time(2021– )</td>\n",
       "      <td>7.1</td>\n",
       "      <td>n/a</td>\n",
       "      <td>197,841</td>\n",
       "    </tr>\n",
       "    <tr>\n",
       "      <th>22</th>\n",
       "      <td>23.Sing 2(2021)</td>\n",
       "      <td>7.4</td>\n",
       "      <td>n/a</td>\n",
       "      <td>44,875</td>\n",
       "    </tr>\n",
       "    <tr>\n",
       "      <th>23</th>\n",
       "      <td>24.No Time to Die(2021)</td>\n",
       "      <td>7.3</td>\n",
       "      <td>n/a</td>\n",
       "      <td>102,414</td>\n",
       "    </tr>\n",
       "    <tr>\n",
       "      <th>24</th>\n",
       "      <td>25.The Matrix Resurrections(2021)</td>\n",
       "      <td>5.7</td>\n",
       "      <td>n/a</td>\n",
       "      <td>65,797</td>\n",
       "    </tr>\n",
       "    <tr>\n",
       "      <th>25</th>\n",
       "      <td>26.Ojing-eo geim(2021– )</td>\n",
       "      <td>8.0</td>\n",
       "      <td>n/a</td>\n",
       "      <td>65,797</td>\n",
       "    </tr>\n",
       "    <tr>\n",
       "      <th>26</th>\n",
       "      <td>27.Snabba cash(2021– )</td>\n",
       "      <td>7.6</td>\n",
       "      <td>n/a</td>\n",
       "      <td>390,273</td>\n",
       "    </tr>\n",
       "    <tr>\n",
       "      <th>27</th>\n",
       "      <td>28.House of Gucci(2021)</td>\n",
       "      <td>6.6</td>\n",
       "      <td>n/a</td>\n",
       "      <td>390,273</td>\n",
       "    </tr>\n",
       "    <tr>\n",
       "      <th>28</th>\n",
       "      <td>29.Last Night in Soho(2021)</td>\n",
       "      <td>7.1</td>\n",
       "      <td>n/a</td>\n",
       "      <td>243,239</td>\n",
       "    </tr>\n",
       "    <tr>\n",
       "      <th>29</th>\n",
       "      <td>30.Hacks(2021– )</td>\n",
       "      <td>8.2</td>\n",
       "      <td>n/a</td>\n",
       "      <td>436,151</td>\n",
       "    </tr>\n",
       "    <tr>\n",
       "      <th>30</th>\n",
       "      <td>31.Ghosts(2021– )</td>\n",
       "      <td>7.8</td>\n",
       "      <td>n/a</td>\n",
       "      <td>9,297</td>\n",
       "    </tr>\n",
       "    <tr>\n",
       "      <th>31</th>\n",
       "      <td>32.Law &amp; Order: Organized Crime(2021– )</td>\n",
       "      <td>7.7</td>\n",
       "      <td>n/a</td>\n",
       "      <td>129,937</td>\n",
       "    </tr>\n",
       "    <tr>\n",
       "      <th>32</th>\n",
       "      <td>33.Ghostbusters: Afterlife(2021)</td>\n",
       "      <td>7.1</td>\n",
       "      <td>n/a</td>\n",
       "      <td>130,367</td>\n",
       "    </tr>\n",
       "    <tr>\n",
       "      <th>33</th>\n",
       "      <td>34.La Brea(2021– )</td>\n",
       "      <td>5.7</td>\n",
       "      <td>n/a</td>\n",
       "      <td>28,730</td>\n",
       "    </tr>\n",
       "    <tr>\n",
       "      <th>34</th>\n",
       "      <td>35.Pleasure(2021)</td>\n",
       "      <td>6.3</td>\n",
       "      <td>n/a</td>\n",
       "      <td>14,785</td>\n",
       "    </tr>\n",
       "    <tr>\n",
       "      <th>35</th>\n",
       "      <td>36.Gekijouban Jujutsu Kaisen 0(2021)</td>\n",
       "      <td>7.9</td>\n",
       "      <td>n/a</td>\n",
       "      <td>7,081</td>\n",
       "    </tr>\n",
       "    <tr>\n",
       "      <th>36</th>\n",
       "      <td>37.Eternals(2021)</td>\n",
       "      <td>6.3</td>\n",
       "      <td>n/a</td>\n",
       "      <td>176,308</td>\n",
       "    </tr>\n",
       "    <tr>\n",
       "      <th>37</th>\n",
       "      <td>38.Mare of Easttown(2021)</td>\n",
       "      <td>8.4</td>\n",
       "      <td>n/a</td>\n",
       "      <td>176,308</td>\n",
       "    </tr>\n",
       "    <tr>\n",
       "      <th>38</th>\n",
       "      <td>39.Midnight Mass(2021)</td>\n",
       "      <td>7.7</td>\n",
       "      <td>n/a</td>\n",
       "      <td>10,249</td>\n",
       "    </tr>\n",
       "    <tr>\n",
       "      <th>39</th>\n",
       "      <td>40.The Book of Boba Fett(2021– )</td>\n",
       "      <td>7.3</td>\n",
       "      <td>n/a</td>\n",
       "      <td>15,053</td>\n",
       "    </tr>\n",
       "    <tr>\n",
       "      <th>40</th>\n",
       "      <td>41.Home Economics(2021– )</td>\n",
       "      <td>6.7</td>\n",
       "      <td>n/a</td>\n",
       "      <td>14,805</td>\n",
       "    </tr>\n",
       "    <tr>\n",
       "      <th>41</th>\n",
       "      <td>42.Shadow and Bone(2021– )</td>\n",
       "      <td>7.6</td>\n",
       "      <td>n/a</td>\n",
       "      <td>333,479</td>\n",
       "    </tr>\n",
       "    <tr>\n",
       "      <th>42</th>\n",
       "      <td>43.Don't Look Up(2021)</td>\n",
       "      <td>7.2</td>\n",
       "      <td>n/a</td>\n",
       "      <td>333,479</td>\n",
       "    </tr>\n",
       "    <tr>\n",
       "      <th>43</th>\n",
       "      <td>44.Loki(2021– )</td>\n",
       "      <td>8.2</td>\n",
       "      <td>n/a</td>\n",
       "      <td>152,118</td>\n",
       "    </tr>\n",
       "    <tr>\n",
       "      <th>44</th>\n",
       "      <td>45.FBI: International(2021– )</td>\n",
       "      <td>6.3</td>\n",
       "      <td>n/a</td>\n",
       "      <td>111,435</td>\n",
       "    </tr>\n",
       "    <tr>\n",
       "      <th>45</th>\n",
       "      <td>46.Spencer(2021)</td>\n",
       "      <td>6.6</td>\n",
       "      <td>n/a</td>\n",
       "      <td>144,401</td>\n",
       "    </tr>\n",
       "    <tr>\n",
       "      <th>46</th>\n",
       "      <td>47.Sex/Life(2021– )</td>\n",
       "      <td>5.4</td>\n",
       "      <td>n/a</td>\n",
       "      <td>3,999</td>\n",
       "    </tr>\n",
       "    <tr>\n",
       "      <th>47</th>\n",
       "      <td>48.The Last Duel(2021)</td>\n",
       "      <td>7.4</td>\n",
       "      <td>n/a</td>\n",
       "      <td>82,984</td>\n",
       "    </tr>\n",
       "    <tr>\n",
       "      <th>48</th>\n",
       "      <td>49.Free Guy(2021)</td>\n",
       "      <td>7.1</td>\n",
       "      <td>n/a</td>\n",
       "      <td>526,520</td>\n",
       "    </tr>\n",
       "    <tr>\n",
       "      <th>49</th>\n",
       "      <td>50.Old(2021)</td>\n",
       "      <td>5.8</td>\n",
       "      <td>n/a</td>\n",
       "      <td>306,442</td>\n",
       "    </tr>\n",
       "  </tbody>\n",
       "</table>\n",
       "</div>"
      ],
      "text/plain": [
       "                                      title ratings metascore    votes\n",
       "0             1.Fate: The Winx Saga(2021– )     6.9        65   44,511\n",
       "1              2.The White Lotus(2021–2022)     7.6        71   67,711\n",
       "2    3.Only Murders in the Building(2021– )     8.1        74   96,354\n",
       "3               4.Abbott Elementary(2021– )     8.2        90   13,724\n",
       "4                   5.The Black Phone(2021)     7.0        69  113,049\n",
       "5                  6.Resident Alien(2021– )     8.1        68   39,224\n",
       "6         7.American Horror Stories(2021– )     6.2        63   20,777\n",
       "7                         8.1883(2021–2022)     8.8        65   63,196\n",
       "8                9.Reservation Dogs(2021– )     8.1        75   14,619\n",
       "9          10.Spider-Man: No Way Home(2021)     8.3        71  730,413\n",
       "10             11.La scuola cattolica(2021)     5.7        76  730,413\n",
       "11                  12.Dune: Part One(2021)     8.0        67    1,798\n",
       "12                  13.Licorice Pizza(2021)     7.2        62  614,413\n",
       "13      14.Forsvinningen på Lørenskog(2021)     6.1       n/a  614,413\n",
       "14                        15.Dopesick(2021)     8.6       n/a  105,554\n",
       "15                 16.NCIS: Hawai'i(2021– )     6.3       n/a    1,065\n",
       "16    17.Mona Lisa and the Blood Moon(2021)     6.2       n/a   54,544\n",
       "17               18.The Little Things(2021)     6.3       n/a    5,532\n",
       "18                    19.Bloodlands(2021– )     6.6       n/a    1,011\n",
       "19     20.Arcane: League of Legends(2021– )     9.0       n/a   99,621\n",
       "20                 21.Yellowjackets(2021– )     7.9       n/a    5,078\n",
       "21             22.The Wheel of Time(2021– )     7.1       n/a  197,841\n",
       "22                          23.Sing 2(2021)     7.4       n/a   44,875\n",
       "23                  24.No Time to Die(2021)     7.3       n/a  102,414\n",
       "24        25.The Matrix Resurrections(2021)     5.7       n/a   65,797\n",
       "25                 26.Ojing-eo geim(2021– )     8.0       n/a   65,797\n",
       "26                   27.Snabba cash(2021– )     7.6       n/a  390,273\n",
       "27                  28.House of Gucci(2021)     6.6       n/a  390,273\n",
       "28              29.Last Night in Soho(2021)     7.1       n/a  243,239\n",
       "29                         30.Hacks(2021– )     8.2       n/a  436,151\n",
       "30                        31.Ghosts(2021– )     7.8       n/a    9,297\n",
       "31  32.Law & Order: Organized Crime(2021– )     7.7       n/a  129,937\n",
       "32         33.Ghostbusters: Afterlife(2021)     7.1       n/a  130,367\n",
       "33                       34.La Brea(2021– )     5.7       n/a   28,730\n",
       "34                        35.Pleasure(2021)     6.3       n/a   14,785\n",
       "35     36.Gekijouban Jujutsu Kaisen 0(2021)     7.9       n/a    7,081\n",
       "36                        37.Eternals(2021)     6.3       n/a  176,308\n",
       "37                38.Mare of Easttown(2021)     8.4       n/a  176,308\n",
       "38                   39.Midnight Mass(2021)     7.7       n/a   10,249\n",
       "39         40.The Book of Boba Fett(2021– )     7.3       n/a   15,053\n",
       "40                41.Home Economics(2021– )     6.7       n/a   14,805\n",
       "41               42.Shadow and Bone(2021– )     7.6       n/a  333,479\n",
       "42                   43.Don't Look Up(2021)     7.2       n/a  333,479\n",
       "43                          44.Loki(2021– )     8.2       n/a  152,118\n",
       "44            45.FBI: International(2021– )     6.3       n/a  111,435\n",
       "45                         46.Spencer(2021)     6.6       n/a  144,401\n",
       "46                      47.Sex/Life(2021– )     5.4       n/a    3,999\n",
       "47                   48.The Last Duel(2021)     7.4       n/a   82,984\n",
       "48                        49.Free Guy(2021)     7.1       n/a  526,520\n",
       "49                             50.Old(2021)     5.8       n/a  306,442"
      ]
     },
     "execution_count": 187,
     "metadata": {},
     "output_type": "execute_result"
    }
   ],
   "source": [
    "import pandas as pd\n",
    "\n",
    "df = pd.DataFrame(temp, columns = ('title','ratings', 'metascore','votes'))\n",
    "df"
   ]
  },
  {
   "cell_type": "markdown",
   "metadata": {},
   "source": [
    "Do the data cleaning here (please change this markdown with your explanation of what you do for data wrangling)"
   ]
  },
  {
   "cell_type": "code",
   "execution_count": 188,
   "metadata": {
    "ExecuteTime": {
     "end_time": "2020-01-13T05:12:59.165559Z",
     "start_time": "2020-01-13T05:12:58.910012Z"
    }
   },
   "outputs": [
    {
     "data": {
      "text/plain": [
       "title        object\n",
       "ratings      object\n",
       "metascore    object\n",
       "votes        object\n",
       "dtype: object"
      ]
     },
     "execution_count": 188,
     "metadata": {},
     "output_type": "execute_result"
    }
   ],
   "source": [
    "df.dtypes\n"
   ]
  },
  {
   "cell_type": "code",
   "execution_count": 190,
   "metadata": {},
   "outputs": [],
   "source": [
    "df.ratings = df.ratings.astype('float64')\n",
    "df.votes = df.votes.str.replace(\",\",\"\")\n",
    "df.votes = df.votes.astype('int')"
   ]
  },
  {
   "cell_type": "markdown",
   "metadata": {},
   "source": [
    "Data visualisation (please change this markdown with your explanation of what you do for data wrangling)"
   ]
  },
  {
   "cell_type": "markdown",
   "metadata": {},
   "source": [
    "### Implementing your webscrapping to the flask dashboard\n",
    "\n",
    "- Copy paste all of your web scrapping process to the desired position on the `app.py`\n",
    "- Changing the title of the dasboard at `index.html`"
   ]
  },
  {
   "cell_type": "markdown",
   "metadata": {},
   "source": [
    "## Finishing This Notebook with Your Analysis and Conclusion\n",
    "\n",
    "First you can do start with making the data visualisation. "
   ]
  },
  {
   "cell_type": "code",
   "execution_count": 208,
   "metadata": {
    "ExecuteTime": {
     "end_time": "2020-01-13T05:20:56.208237Z",
     "start_time": "2020-01-13T05:20:56.076043Z"
    }
   },
   "outputs": [
    {
     "data": {
      "text/plain": [
       "<AxesSubplot:ylabel='title'>"
      ]
     },
     "execution_count": 208,
     "metadata": {},
     "output_type": "execute_result"
    },
    {
     "data": {
      "image/png": "[encoded data removed]",
      "text/plain": [
       "<Figure size 432x288 with 1 Axes>"
      ]
     },
     "metadata": {
      "needs_background": "light"
     },
     "output_type": "display_data"
    }
   ],
   "source": [
    "df.sort_values(by=['votes'], inplace=True, ascending=False)\n",
    "top_7 = df.head(7)\n",
    "top_7.plot.barh(x='title', y='votes')"
   ]
  },
  {
   "cell_type": "code",
   "execution_count": 209,
   "metadata": {},
   "outputs": [
    {
     "data": {
      "text/plain": [
       "<AxesSubplot:ylabel='title'>"
      ]
     },
     "execution_count": 209,
     "metadata": {},
     "output_type": "execute_result"
    },
    {
     "data": {
      "image/png": "[encoded data removed]",
      "text/plain": [
       "<Figure size 432x288 with 1 Axes>"
      ]
     },
     "metadata": {
      "needs_background": "light"
     },
     "output_type": "display_data"
    }
   ],
   "source": [
    "df.sort_values(by=['ratings'], inplace=True, ascending=False)\n",
    "top_7_r = df.head(7)\n",
    "top_7_r.plot.barh(x='title', y='ratings')"
   ]
  },
  {
   "cell_type": "markdown",
   "metadata": {},
   "source": [
    "\n",
    "(Put your analysis and conclusion here.)\n",
    "1. Berbasis vote, yang paling popular adalah Spiderman\n",
    "2.Berbasis rating, yang terbaik adalah Arcane : Leage of Leagends"
   ]
  },
  {
   "cell_type": "markdown",
   "metadata": {},
   "source": [
    "### Extra Challange\n",
    "\n",
    "This will be not included to the scoring. \n",
    "\n",
    "- You can create additional analysis from the data.\n",
    "- Implement it to the dashboard with at `app.py` dan `index.html`."
   ]
  }
 ],
 "metadata": {
  "kernelspec": {
   "display_name": "theia_da",
   "language": "python",
   "name": "theia_da"
  },
  "language_info": {
   "codemirror_mode": {
    "name": "ipython",
    "version": 3
   },
   "file_extension": ".py",
   "mimetype": "text/x-python",
   "name": "python",
   "nbconvert_exporter": "python",
   "pygments_lexer": "ipython3",
   "version": "3.9.13"
  }
 },
 "nbformat": 4,
 "nbformat_minor": 2
}
